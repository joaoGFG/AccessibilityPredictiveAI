{
 "cells": [
  {
   "cell_type": "code",
   "execution_count": 64,
   "id": "ea589fb2",
   "metadata": {},
   "outputs": [],
   "source": [
    "import pandas as pd\n",
    "import numpy as np\n",
    "from sklearn.impute import SimpleImputer\n",
    "from sklearn.preprocessing import StandardScaler, OneHotEncoder\n",
    "from sklearn.compose import ColumnTransformer\n",
    "from sklearn.pipeline import Pipeline\n",
    "from sklearn.ensemble import RandomForestClassifier\n",
    "from sklearn.linear_model import LogisticRegression\n",
    "from sklearn.neighbors import KNeighborsClassifier\n",
    "from sklearn.metrics import accuracy_score, classification_report\n",
    "from sklearn.model_selection import train_test_split\n",
    "import joblib"
   ]
  },
  {
   "cell_type": "code",
   "execution_count": 65,
   "id": "28e08849",
   "metadata": {},
   "outputs": [],
   "source": [
    "# CARREGAMENTO DOS DADOS\n",
    "train = pd.read_csv('../data/dados_trem_visuais_train.csv')\n",
    "test = pd.read_csv('../data/dados_trem_visuais_test.csv')\n",
    "\n",
    "# SEPARANDO FEATURES E TARGET\n",
    "X_train = train.drop(columns=['precisou_assistencia'])  # substitua \"target\" pelo nome real da coluna alvo\n",
    "y_train = train['precisou_assistencia']\n",
    "\n",
    "X_test = test.drop(columns=['precisou_assistencia'])   # mesmo aqui\n",
    "y_test = test['precisou_assistencia']\n"
   ]
  },
  {
   "cell_type": "code",
   "execution_count": 66,
   "id": "956b8627",
   "metadata": {},
   "outputs": [],
   "source": [
    "# Identificar colunas categóricas e numéricas\n",
    "categorical_cols = [\"sexo\", \"linha_metro\"]\n",
    "numerical_cols = [col for col in X_train.columns if col not in categorical_cols]"
   ]
  },
  {
   "cell_type": "code",
   "execution_count": 67,
   "id": "1aeb2ad2",
   "metadata": {},
   "outputs": [],
   "source": [
    "colunas_numericas = ['idade', 'tempo_de_espera']\n",
    "colunas_categoricas = [\n",
    "    'sexo', 'linha_metro', 'estacao_movimentada', 'usa_bengala',\n",
    "    'aplicativo_acessibilidade', 'horario_pico', 'usa_cao_guia'\n",
    "]"
   ]
  },
  {
   "cell_type": "code",
   "execution_count": 68,
   "id": "10c4729b",
   "metadata": {},
   "outputs": [],
   "source": [
    "# Pré-processamento\n",
    "preprocessor = ColumnTransformer(transformers=[\n",
    "    ('num', Pipeline([\n",
    "        ('imputer', SimpleImputer(strategy='median')),\n",
    "        ('scaler', StandardScaler())\n",
    "    ]), colunas_numericas),\n",
    "    \n",
    "    ('cat', Pipeline([\n",
    "        ('imputer', SimpleImputer(strategy='most_frequent')),\n",
    "        ('encoder', OneHotEncoder(handle_unknown='ignore'))\n",
    "    ]), colunas_categoricas)\n",
    "])"
   ]
  },
  {
   "cell_type": "code",
   "execution_count": 69,
   "id": "207c604d",
   "metadata": {},
   "outputs": [],
   "source": [
    "# Dicionário de modelos para comparação\n",
    "modelos = {\n",
    "    \"RandomForest\": RandomForestClassifier(random_state=42, class_weight=\"balanced\"),\n",
    "    \"LogisticRegression\": LogisticRegression(max_iter=1000),\n",
    "    \"KNN\": KNeighborsClassifier(n_neighbors=5)\n",
    "}"
   ]
  },
  {
   "cell_type": "code",
   "execution_count": 70,
   "id": "23ebf6fb",
   "metadata": {},
   "outputs": [
    {
     "name": "stdout",
     "output_type": "stream",
     "text": [
      "\n",
      "Modelo: RandomForest\n",
      "Acurácia: 0.9900\n",
      "              precision    recall  f1-score   support\n",
      "\n",
      "           0       0.98      1.00      0.99        58\n",
      "           1       1.00      0.98      0.99        42\n",
      "\n",
      "    accuracy                           0.99       100\n",
      "   macro avg       0.99      0.99      0.99       100\n",
      "weighted avg       0.99      0.99      0.99       100\n",
      "\n",
      "\n",
      "Modelo: LogisticRegression\n",
      "Acurácia: 0.9900\n",
      "              precision    recall  f1-score   support\n",
      "\n",
      "           0       0.98      1.00      0.99        58\n",
      "           1       1.00      0.98      0.99        42\n",
      "\n",
      "    accuracy                           0.99       100\n",
      "   macro avg       0.99      0.99      0.99       100\n",
      "weighted avg       0.99      0.99      0.99       100\n",
      "\n",
      "\n",
      "Modelo: KNN\n",
      "Acurácia: 0.9400\n",
      "              precision    recall  f1-score   support\n",
      "\n",
      "           0       0.91      1.00      0.95        58\n",
      "           1       1.00      0.86      0.92        42\n",
      "\n",
      "    accuracy                           0.94       100\n",
      "   macro avg       0.95      0.93      0.94       100\n",
      "weighted avg       0.95      0.94      0.94       100\n",
      "\n"
     ]
    }
   ],
   "source": [
    "melhor_modelo = None\n",
    "melhor_acuracia = 0\n",
    "melhor_nome = \"\"\n",
    "\n",
    "# Loop de avaliação\n",
    "for nome, modelo in modelos.items():\n",
    "    pipeline = Pipeline([\n",
    "        (\"preprocessor\", preprocessor),\n",
    "        (\"classifier\", modelo)\n",
    "    ])\n",
    "    \n",
    "    pipeline.fit(X_train, y_train)\n",
    "    y_pred = pipeline.predict(X_test)\n",
    "    acuracia = accuracy_score(y_test, y_pred)\n",
    "    \n",
    "    print(f\"\\nModelo: {nome}\")\n",
    "    print(f\"Acurácia: {acuracia:.4f}\")\n",
    "    print(classification_report(y_test, y_pred))\n",
    "\n",
    "    if acuracia > melhor_acuracia:\n",
    "        melhor_acuracia = acuracia\n",
    "        melhor_modelo = pipeline\n",
    "        melhor_nome = nome\n"
   ]
  },
  {
   "cell_type": "code",
   "execution_count": 71,
   "id": "611d7c28",
   "metadata": {},
   "outputs": [
    {
     "name": "stdout",
     "output_type": "stream",
     "text": [
      "\n",
      " Melhor modelo: RandomForest com acurácia de 0.9900\n"
     ]
    },
    {
     "data": {
      "text/plain": [
       "['../model/assistencia_model.pkl']"
      ]
     },
     "execution_count": 71,
     "metadata": {},
     "output_type": "execute_result"
    }
   ],
   "source": [
    "# Salvando finalmente o modelo\n",
    "print(f\"\\n Melhor modelo: {melhor_nome} com acurácia de {melhor_acuracia:.4f}\")\n",
    "joblib.dump(melhor_modelo, \"../model/assistencia_model.pkl\")"
   ]
  }
 ],
 "metadata": {
  "kernelspec": {
   "display_name": "Python 3",
   "language": "python",
   "name": "python3"
  },
  "language_info": {
   "codemirror_mode": {
    "name": "ipython",
    "version": 3
   },
   "file_extension": ".py",
   "mimetype": "text/x-python",
   "name": "python",
   "nbconvert_exporter": "python",
   "pygments_lexer": "ipython3",
   "version": "3.13.3"
  }
 },
 "nbformat": 4,
 "nbformat_minor": 5
}
